{
 "cells": [
  {
   "cell_type": "markdown",
   "metadata": {},
   "source": [
    "following this video first to understand backprop... https://youtu.be/VMj-3S1tku0?si=eP7Ai1CO0BHh-yeS \n",
    "\n",
    "also note: to get this working on vscode, needed to install virtual environments T_T "
   ]
  },
  {
   "cell_type": "code",
   "execution_count": 47,
   "metadata": {},
   "outputs": [],
   "source": [
    "import math\n",
    "import numpy as np \n",
    "import matplotlib.pyplot as plt"
   ]
  },
  {
   "cell_type": "markdown",
   "metadata": {},
   "source": [
    "(at first the videos covers gradients, the \"speed of change\" at any point), then moving onto the structure of \"micrograd\""
   ]
  },
  {
   "cell_type": "code",
   "execution_count": 48,
   "metadata": {},
   "outputs": [],
   "source": [
    "class Value:\n",
    "    # this is the constructor function in python classes \n",
    "    def __init__(self, data, _children=(), _op='', label=''): \n",
    "        self.data = data \n",
    "        self.grad = 0  # initially, we assume it's zero.\n",
    "        self._prev = set(_children)\n",
    "        self._op = _op\n",
    "        self.label = label\n",
    "    \n",
    "    # this defines the string REPRESENTATION of the object \n",
    "    def __repr__(self): \n",
    "        return f\"Value(data={self.data})\"\n",
    "    \n",
    "    # we need to enable adding as well of these Value objects\n",
    "    def __add__(self, other):\n",
    "        out = Value(self.data + other.data, (self, other), '+') # creates a new value object\n",
    "        return out\n",
    "\n",
    "    def __mul__(self, other):\n",
    "        out = Value(self.data * other.data, (self, other), '*') \n",
    "        return out\n",
    "    \n"
   ]
  },
  {
   "cell_type": "code",
   "execution_count": 49,
   "metadata": {},
   "outputs": [
    {
     "data": {
      "text/plain": [
       "Value(data=-6.0)"
      ]
     },
     "execution_count": 49,
     "metadata": {},
     "output_type": "execute_result"
    }
   ],
   "source": [
    "a = Value(2.0, label='a')\n",
    "b = Value(-3.0, label='b')\n",
    "a + b # doesn't work until... implemented, now a.__add__(b) under the hood\n",
    "a * b # doesn't work until implementing __mul__"
   ]
  },
  {
   "cell_type": "code",
   "execution_count": 50,
   "metadata": {},
   "outputs": [
    {
     "data": {
      "text/plain": [
       "'+'"
      ]
     },
     "execution_count": 50,
     "metadata": {},
     "output_type": "execute_result"
    }
   ],
   "source": [
    "# now, we want to be able to SHOW THE CONNECTIVE TISSUE - GRAPHS\n",
    "# what values produce other values??\n",
    "\n",
    "# adding children... we want to now include that as part of value.\n",
    "c = Value(10.0, label='c')\n",
    "d = a*b + c \n",
    "d.label = 'd'\n",
    "d._prev\n",
    "d._op"
   ]
  },
  {
   "cell_type": "markdown",
   "metadata": {},
   "source": [
    "Now we want to be able to draw a graph of the nodes!"
   ]
  },
  {
   "cell_type": "code",
   "execution_count": 51,
   "metadata": {},
   "outputs": [],
   "source": [
    "from graphviz import Digraph # Digraph stands for directed graph (ok makes sense)\n",
    "\n",
    "# using graph traversal \n",
    "def trace(root):\n",
    "    # we are indeed finding all the nodes and edges in a graph \n",
    "    nodes, edges = set(), set()\n",
    "\n",
    "    def build(v):\n",
    "        # unvisited nodes only duh \n",
    "        if v not in nodes:\n",
    "            nodes.add(v)\n",
    "            for child in v._prev:\n",
    "                edges.add((child, v))\n",
    "                build(child)\n",
    "\n",
    "    build(root)\n",
    "    return nodes, edges\n",
    "\n",
    "def draw_dot(root):\n",
    "    dot = Digraph(format='svg', graph_attr={'rankdir': 'LR'}) # LR = left to right\n",
    "\n",
    "    nodes, edges = trace(root)\n",
    "    for n in nodes:\n",
    "        uid = str(id(n)) # id is a built in python function, unique (member addr)\n",
    "\n",
    "        # we create \"records\" for each node\n",
    "        dot.node(name = uid, label = \"{data %.4f}\" % (n.data, ), shape='record')\n",
    "        if n._op:\n",
    "            # when this node is created by an operation \n",
    "            dot.node(name = uid + n._op, label = n._op)\n",
    "            # add \"operation\" nodes to it \n",
    "            dot.edge(uid + n._op, uid)\n",
    "    \n",
    "    for n1, n2 in edges: \n",
    "        # connect n1 and n2 -- the \"nodes\" with the name w an edge\n",
    "        dot.edge(str(id(n1)), str(id(n2)) + n2._op)\n",
    "    \n",
    "    return dot"
   ]
  },
  {
   "cell_type": "code",
   "execution_count": 52,
   "metadata": {},
   "outputs": [],
   "source": [
    "draw_dot(d) # errors i think due to graphviz not properly being set up in my python evironment. oh well.\n",
    "f = Value(-2.0, label ='f')\n",
    "L = d * f ; L.label = 'L'"
   ]
  },
  {
   "cell_type": "markdown",
   "metadata": {},
   "source": [
    "now we want to calculate backprop - calculate the gradient of all nodes -- with respect to L."
   ]
  },
  {
   "cell_type": "code",
   "execution_count": 53,
   "metadata": {},
   "outputs": [],
   "source": [
    "# L to L: 1. \n",
    "\n",
    "L.grad = 1\n",
    "\n",
    "# L = d * f, dL/dd = f.\n",
    "\n",
    "\n",
    "# so he is using the definition of derivatives as TAKING A FUNCTION TO INFINITY\n",
    "\n",
    "# (f(x+h) - f(x))/ h --> right, (function input changes by h, divided by h)\n",
    "# given that \"d\" is the \"x\" in our function;\n",
    "# (d+h)*f - d*f) / h\n",
    "# = ((d*f) + (h*f) - (d*f)) / h\n",
    "# = h*f/h \n",
    "# = f.\n",
    "\n",
    "d.grad = f.data\n",
    "\n",
    "# then dL/df = d.\n",
    "\n",
    "f.grad = d.data"
   ]
  },
  {
   "cell_type": "code",
   "execution_count": 71,
   "metadata": {},
   "outputs": [
    {
     "name": "stdout",
     "output_type": "stream",
     "text": [
      "2.000000000000668\n"
     ]
    }
   ],
   "source": [
    "# we can verify these numbers with small step sizes: \n",
    "\n",
    "def gradient_checker():\n",
    "    h = 0.001 \n",
    "\n",
    "    a = Value(2.0, label = 'a')\n",
    "    b = Value(-3.0, label = 'b')\n",
    "    c = Value(10.0, label = 'c')\n",
    "    e = a*b; e.label = 'e'\n",
    "    # e.data += h #2 \n",
    "    # c.data += h # 2 \n",
    "    d = e + c; d.label = 'd'\n",
    "    f = Value(-2.0, label='f')\n",
    "    # f.data += h # this returns -3.99999\n",
    "    # d.data += h # this returns 2.000\n",
    "    L = d*f; L.label = 'L'\n",
    "    L1 = L.data\n",
    "\n",
    "    a = Value(2.0, label = 'a')\n",
    "    b = Value(-3.0, label = 'b')\n",
    "    c = Value(10.0, label = 'c')\n",
    "    e = a*b; e.label = 'e'\n",
    "    d = e + c; d.label = 'd'\n",
    "    f = Value(-2.0, label='f')\n",
    "    L = d*f; L.label = 'L'\n",
    "    L2 = L.data\n",
    "    \n",
    "    print((L2-L1)/h)\n",
    "\n",
    "gradient_checker()\n"
   ]
  },
  {
   "cell_type": "code",
   "execution_count": 64,
   "metadata": {},
   "outputs": [],
   "source": [
    "#  and then as we now want to check dc / dL ... \n",
    "# first calculating dd / dc: \n",
    "\n",
    "# f(x+h) - f(x) / h\n",
    "# d = c + e, \n",
    "# (c+e+h) - (c-e) / h = h / h = 1\n",
    "\n",
    "# dd/de and dd/dc = 1. \n",
    "\n",
    "# put together -> CHAIN RULE : dz/dx = dz/dy * dy/dz MULTIPLY THE DERIVATIVES.\n",
    "# i like this quote actually - \"if a car travels twice as fast as a bike, and a bike 4x fast as a man, then the car travels 8x fast as a man (2*4) = 8\"\n",
    "\n",
    "# OMFG, then we do: \n",
    "# dL/dc = dL/dd * dd/dc = 2 * 1 = 2\n",
    "# same for dL/de = dL/dd * dd/de = 2 * 1 = 2\n",
    "\n"
   ]
  },
  {
   "cell_type": "code",
   "execution_count": null,
   "metadata": {},
   "outputs": [],
   "source": [
    "\n"
   ]
  }
 ],
 "metadata": {
  "kernelspec": {
   "display_name": ".venv",
   "language": "python",
   "name": "python3"
  },
  "language_info": {
   "codemirror_mode": {
    "name": "ipython",
    "version": 3
   },
   "file_extension": ".py",
   "mimetype": "text/x-python",
   "name": "python",
   "nbconvert_exporter": "python",
   "pygments_lexer": "ipython3",
   "version": "3.11.5"
  }
 },
 "nbformat": 4,
 "nbformat_minor": 2
}
