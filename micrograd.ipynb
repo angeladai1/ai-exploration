{
 "cells": [
  {
   "cell_type": "markdown",
   "metadata": {},
   "source": [
    "following this video first to understand backprop... https://youtu.be/VMj-3S1tku0?si=eP7Ai1CO0BHh-yeS \n",
    "\n",
    "also note: to get this working on vscode, needed to install virtual environments T_T "
   ]
  },
  {
   "cell_type": "code",
   "execution_count": 13,
   "metadata": {},
   "outputs": [],
   "source": [
    "import math\n",
    "import numpy as np \n",
    "import matplotlib.pyplot as plt"
   ]
  },
  {
   "cell_type": "markdown",
   "metadata": {},
   "source": [
    "(at first the videos covers gradients, the \"speed of change\" at any point), then moving onto the structure of \"micrograd\""
   ]
  },
  {
   "cell_type": "code",
   "execution_count": 14,
   "metadata": {},
   "outputs": [],
   "source": [
    "class Value:\n",
    "    # this is the constructor function in python classes \n",
    "    def __init__(self, data, _children): \n",
    "        self.data = data \n",
    "        self._prev = set(_children)\n",
    "    \n",
    "    # this defines the string REPRESENTATION of the object \n",
    "    def __repr__(self): \n",
    "        return f\"Value(data={self.data})\"\n",
    "    \n",
    "    # we need to enable adding as well of these Value objects\n",
    "    def __add__(self, other):\n",
    "        out = Value(self.data + other.data, (self, other)) # creates a new value object\n",
    "        return out\n",
    "\n",
    "    def __mul__(self, other):\n",
    "        out = Value(self.data * other.data, (self, other)) \n",
    "        return out\n"
   ]
  },
  {
   "cell_type": "code",
   "execution_count": 15,
   "metadata": {},
   "outputs": [
    {
     "ename": "TypeError",
     "evalue": "Value.__init__() missing 1 required positional argument: '_children'",
     "output_type": "error",
     "traceback": [
      "\u001b[31m---------------------------------------------------------------------------\u001b[39m",
      "\u001b[31mTypeError\u001b[39m                                 Traceback (most recent call last)",
      "\u001b[36mCell\u001b[39m\u001b[36m \u001b[39m\u001b[32mIn[15]\u001b[39m\u001b[32m, line 1\u001b[39m\n\u001b[32m----> \u001b[39m\u001b[32m1\u001b[39m a = \u001b[43mValue\u001b[49m\u001b[43m(\u001b[49m\u001b[32;43m2.0\u001b[39;49m\u001b[43m)\u001b[49m\n\u001b[32m      2\u001b[39m b = Value(-\u001b[32m3.0\u001b[39m)\n\u001b[32m      3\u001b[39m a + b \u001b[38;5;66;03m# doesn't work until... implemented, now a.__add__(b) under the hood\u001b[39;00m\n",
      "\u001b[31mTypeError\u001b[39m: Value.__init__() missing 1 required positional argument: '_children'"
     ]
    }
   ],
   "source": [
    "a = Value(2.0)\n",
    "b = Value(-3.0)\n",
    "a + b # doesn't work until... implemented, now a.__add__(b) under the hood\n",
    "a * b # doesn't work until implementing __mul__"
   ]
  },
  {
   "cell_type": "code",
   "execution_count": 12,
   "metadata": {},
   "outputs": [
    {
     "ename": "TypeError",
     "evalue": "unsupported operand type(s) for *: 'Value' and 'Value'",
     "output_type": "error",
     "traceback": [
      "\u001b[31m---------------------------------------------------------------------------\u001b[39m",
      "\u001b[31mTypeError\u001b[39m                                 Traceback (most recent call last)",
      "\u001b[36mCell\u001b[39m\u001b[36m \u001b[39m\u001b[32mIn[12]\u001b[39m\u001b[32m, line 6\u001b[39m\n\u001b[32m      1\u001b[39m \u001b[38;5;66;03m# now, we want to be able to SHOW THE CONNECTIVE TISSUE - GRAPHS\u001b[39;00m\n\u001b[32m      2\u001b[39m \u001b[38;5;66;03m# what values produce other values??\u001b[39;00m\n\u001b[32m      3\u001b[39m \n\u001b[32m      4\u001b[39m \u001b[38;5;66;03m# adding children... we want to now include that as part of value.\u001b[39;00m\n\u001b[32m      5\u001b[39m c = Value(\u001b[32m10.0\u001b[39m)\n\u001b[32m----> \u001b[39m\u001b[32m6\u001b[39m d = \u001b[43ma\u001b[49m\u001b[43m*\u001b[49m\u001b[43mb\u001b[49m + c \n",
      "\u001b[31mTypeError\u001b[39m: unsupported operand type(s) for *: 'Value' and 'Value'"
     ]
    }
   ],
   "source": [
    "# now, we want to be able to SHOW THE CONNECTIVE TISSUE - GRAPHS\n",
    "# what values produce other values??\n",
    "\n",
    "# adding children... we want to now include that as part of value.\n",
    "c = Value(10.0)\n",
    "d = a*b + c \n",
    "d._prev"
   ]
  }
 ],
 "metadata": {
  "kernelspec": {
   "display_name": ".venv",
   "language": "python",
   "name": "python3"
  },
  "language_info": {
   "codemirror_mode": {
    "name": "ipython",
    "version": 3
   },
   "file_extension": ".py",
   "mimetype": "text/x-python",
   "name": "python",
   "nbconvert_exporter": "python",
   "pygments_lexer": "ipython3",
   "version": "3.11.5"
  }
 },
 "nbformat": 4,
 "nbformat_minor": 2
}
