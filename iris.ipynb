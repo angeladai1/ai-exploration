{
 "cells": [
  {
   "cell_type": "markdown",
   "metadata": {},
   "source": [
    "ah yes.... the infamous iris species project thingy"
   ]
  },
  {
   "cell_type": "code",
   "execution_count": 2,
   "metadata": {},
   "outputs": [],
   "source": [
    "# how do I load a dataset? LOL \n",
    "\n",
    "# maybe let's start with actually looking at the csv file lines... \n",
    "\n",
    "import torch\n",
    "import pandas as pd\n",
    "\n",
    "csv_path = 'Iris.csv'\n",
    "df = pd.read_csv(csv_path)"
   ]
  },
  {
   "cell_type": "markdown",
   "metadata": {},
   "source": [
    "let's take a look at the data set - shape property shows # lines, rows"
   ]
  },
  {
   "cell_type": "code",
   "execution_count": 3,
   "metadata": {},
   "outputs": [
    {
     "name": "stdout",
     "output_type": "stream",
     "text": [
      "   Id  SepalLengthCm  SepalWidthCm  PetalLengthCm  PetalWidthCm      Species\n",
      "0   1            5.1           3.5            1.4           0.2  Iris-setosa\n",
      "1   2            4.9           3.0            1.4           0.2  Iris-setosa\n",
      "2   3            4.7           3.2            1.3           0.2  Iris-setosa\n",
      "3   4            4.6           3.1            1.5           0.2  Iris-setosa\n",
      "4   5            5.0           3.6            1.4           0.2  Iris-setosa\n",
      "5   6            5.4           3.9            1.7           0.4  Iris-setosa\n",
      "6   7            4.6           3.4            1.4           0.3  Iris-setosa\n",
      "7   8            5.0           3.4            1.5           0.2  Iris-setosa\n",
      "8   9            4.4           2.9            1.4           0.2  Iris-setosa\n",
      "9  10            4.9           3.1            1.5           0.1  Iris-setosa\n",
      "(150, 6)\n"
     ]
    }
   ],
   "source": [
    "# let's take a look at the data set\n",
    "print(df.head(10))\n",
    "print(df.shape) # (150 lines, 6 rows) - oh that's cool, shape property."
   ]
  },
  {
   "cell_type": "markdown",
   "metadata": {},
   "source": [
    "want to find:\n",
    "- species categories, \n",
    "- the average, min/max, of sepal and petal\n",
    "\n",
    "unique number of species:"
   ]
  },
  {
   "cell_type": "code",
   "execution_count": 4,
   "metadata": {},
   "outputs": [
    {
     "name": "stdout",
     "output_type": "stream",
     "text": [
      "['Iris-setosa' 'Iris-versicolor' 'Iris-virginica']\n",
      "3\n"
     ]
    }
   ],
   "source": [
    "# want to find:\n",
    "#   species categories, \n",
    "#   the average, min/max, of sepal and petal\n",
    "\n",
    "# unique number of species -- \n",
    "print(df['Species'].unique())\n",
    "print(df['Species'].nunique())"
   ]
  },
  {
   "cell_type": "code",
   "execution_count": 5,
   "metadata": {},
   "outputs": [
    {
     "name": "stdout",
     "output_type": "stream",
     "text": [
      "Species\n",
      "Iris-setosa        5.006\n",
      "Iris-versicolor    5.936\n",
      "Iris-virginica     6.588\n",
      "Name: SepalLengthCm, dtype: float64\n"
     ]
    }
   ],
   "source": [
    "# want to see: \n",
    "# iris-setosa: average, min/max, \n",
    "# etc. \n",
    "\n",
    "# groupby omg, i forgot about groupby. \n",
    "\n",
    "print(df.groupby('Species')['SepalLengthCm'].mean())"
   ]
  },
  {
   "cell_type": "code",
   "execution_count": 7,
   "metadata": {},
   "outputs": [
    {
     "name": "stdout",
     "output_type": "stream",
     "text": [
      "                    Id  SepalLengthCm  SepalWidthCm  PetalLengthCm  \\\n",
      "Species                                                              \n",
      "Iris-setosa       25.5          5.006         3.418          1.464   \n",
      "Iris-versicolor   75.5          5.936         2.770          4.260   \n",
      "Iris-virginica   125.5          6.588         2.974          5.552   \n",
      "\n",
      "                 PetalWidthCm  \n",
      "Species                        \n",
      "Iris-setosa             0.244  \n",
      "Iris-versicolor         1.326  \n",
      "Iris-virginica          2.026  \n"
     ]
    }
   ],
   "source": [
    "print(df.groupby('Species').mean())"
   ]
  },
  {
   "cell_type": "code",
   "execution_count": 8,
   "metadata": {},
   "outputs": [
    {
     "name": "stdout",
     "output_type": "stream",
     "text": [
      "                  Id  SepalLengthCm  SepalWidthCm  PetalLengthCm  PetalWidthCm\n",
      "Species                                                                       \n",
      "Iris-setosa       50            5.8           4.4            1.9           0.6\n",
      "Iris-versicolor  100            7.0           3.4            5.1           1.8\n",
      "Iris-virginica   150            7.9           3.8            6.9           2.5\n"
     ]
    }
   ],
   "source": [
    "print(df.groupby('Species').max())"
   ]
  },
  {
   "cell_type": "code",
   "execution_count": 11,
   "metadata": {},
   "outputs": [
    {
     "name": "stdout",
     "output_type": "stream",
     "text": [
      "                  Id  SepalLengthCm  SepalWidthCm  PetalLengthCm  PetalWidthCm\n",
      "Species                                                                       \n",
      "Iris-setosa        1            4.3           2.3            1.0           0.1\n",
      "Iris-versicolor   51            4.9           2.0            3.0           1.0\n",
      "Iris-virginica   101            4.9           2.2            4.5           1.4\n"
     ]
    }
   ],
   "source": [
    "print(df.groupby('Species').min())"
   ]
  },
  {
   "cell_type": "code",
   "execution_count": 13,
   "metadata": {},
   "outputs": [
    {
     "name": "stdout",
     "output_type": "stream",
     "text": [
      "                 Id  SepalLengthCm  SepalWidthCm  PetalLengthCm  PetalWidthCm\n",
      "Species                                                                      \n",
      "Iris-setosa      50             50            50             50            50\n",
      "Iris-versicolor  50             50            50             50            50\n",
      "Iris-virginica   50             50            50             50            50\n"
     ]
    }
   ],
   "source": [
    "print(df.groupby('Species').count())"
   ]
  },
  {
   "cell_type": "code",
   "execution_count": 19,
   "metadata": {},
   "outputs": [
    {
     "data": {
      "image/png": "[encoded data removed]",
      "text/plain": [
       "<Figure size 640x480 with 1 Axes>"
      ]
     },
     "metadata": {},
     "output_type": "display_data"
    }
   ],
   "source": [
    "# now i want to plot each of the data on a chart, with different colours. \n",
    "\n",
    "ax = df[df['Species'] == 'Iris-setosa'].plot.scatter(x='SepalWidthCm', y='SepalLengthCm', color='Blue', label='Iris-setosa')\n",
    "bx = df[df['Species'] == 'Iris-versicolor'].plot.scatter(x='SepalWidthCm', y='SepalLengthCm', color='Red', label='Iris-versicolor', ax=ax)\n",
    "cx = df[df['Species'] == 'Iris-virginica'].plot.scatter(x='SepalWidthCm', y='SepalLengthCm', color='Green', label='Iris-virginica', ax=bx)"
   ]
  }
 ],
 "metadata": {
  "kernelspec": {
   "display_name": ".venv",
   "language": "python",
   "name": "python3"
  },
  "language_info": {
   "codemirror_mode": {
    "name": "ipython",
    "version": 3
   },
   "file_extension": ".py",
   "mimetype": "text/x-python",
   "name": "python",
   "nbconvert_exporter": "python",
   "pygments_lexer": "ipython3",
   "version": "3.11.12"
  }
 },
 "nbformat": 4,
 "nbformat_minor": 2
}
