{
  "cells": [
    {
      "cell_type": "markdown",
      "metadata": {
        "id": "-Gvc2sGUvt6W"
      },
      "source": [
        "# here goes nothing!\n",
        "\n",
        "following this tutorial: \n",
        "- Let's build GPT: from scratch, in code, spelled out.\n",
        "- https://youtu.be/kCc8FmEb1nY?si=yQ_a5pSdg7JxcC9X"
      ]
    },
    {
      "cell_type": "code",
      "execution_count": 1,
      "metadata": {
        "colab": {
          "base_uri": "https://localhost:8080/"
        },
        "id": "EBdNTdyqu2-q",
        "outputId": "a6a79d04-0133-45f4-9b88-82cfb88b19f0"
      },
      "outputs": [
        {
          "name": "stdout",
          "output_type": "stream",
          "text": [
            "--2025-05-24 05:16:27--  https://raw.githubusercontent.com/karpathy/char-rnn/master/data/tinyshakespeare/input.txt\n",
            "Resolving raw.githubusercontent.com (raw.githubusercontent.com)... 185.199.110.133, 185.199.108.133, 185.199.111.133, ...\n",
            "Connecting to raw.githubusercontent.com (raw.githubusercontent.com)|185.199.110.133|:443... connected.\n",
            "HTTP request sent, awaiting response... 200 OK\n",
            "Length: 1115394 (1.1M) [text/plain]\n",
            "Saving to: ‘input.txt’\n",
            "\n",
            "\rinput.txt             0%[                    ]       0  --.-KB/s               \rinput.txt           100%[===================>]   1.06M  --.-KB/s    in 0.06s   \n",
            "\n",
            "2025-05-24 05:16:28 (18.1 MB/s) - ‘input.txt’ saved [1115394/1115394]\n",
            "\n"
          ]
        }
      ],
      "source": [
        "# get the dataset - he is using tiny shakespeare\n",
        "!wget https://raw.githubusercontent.com/karpathy/char-rnn/master/data/tinyshakespeare/input.txt"
      ]
    },
    {
      "cell_type": "code",
      "execution_count": 2,
      "metadata": {
        "id": "RLN9d9YDu6f1"
      },
      "outputs": [],
      "source": [
        "# let's read it now\n",
        "with open('input.txt', 'r', encoding='utf-8') as f:\n",
        "  text = f.read()"
      ]
    },
    {
      "cell_type": "code",
      "execution_count": 3,
      "metadata": {
        "colab": {
          "base_uri": "https://localhost:8080/"
        },
        "id": "ak3JmC0svEHi",
        "outputId": "2e806093-cb5b-491d-e071-0aa741e393a9"
      },
      "outputs": [
        {
          "name": "stdout",
          "output_type": "stream",
          "text": [
            "length of dataset in characters 1115394\n"
          ]
        }
      ],
      "source": [
        "print(\"length of dataset in characters\", len(text))"
      ]
    },
    {
      "cell_type": "code",
      "execution_count": 4,
      "metadata": {
        "colab": {
          "base_uri": "https://localhost:8080/"
        },
        "collapsed": true,
        "id": "xcef6i8nvlEe",
        "outputId": "1336698f-08f6-4459-bf91-77c63decd14a"
      },
      "outputs": [
        {
          "name": "stdout",
          "output_type": "stream",
          "text": [
            "First Citizen:\n",
            "Before we proceed any further, hear me speak.\n",
            "\n",
            "All:\n",
            "Speak, speak.\n",
            "\n",
            "First Citizen:\n",
            "You are all resolved rather to die than to famish?\n",
            "\n",
            "All:\n",
            "Resolved. resolved.\n",
            "\n",
            "First Citizen:\n",
            "First, you know Caius Marcius is chief enemy to the people.\n",
            "\n",
            "All:\n",
            "We know't, we know't.\n",
            "\n",
            "First Citizen:\n",
            "Let us kill him, and we'll have corn at our own price.\n",
            "Is't a verdict?\n",
            "\n",
            "All:\n",
            "No more talking on't; let it be done: away, away!\n",
            "\n",
            "Second Citizen:\n",
            "One word, good citizens.\n",
            "\n",
            "First Citizen:\n",
            "We are accounted poor citizens, the patricians good.\n",
            "What authority surfeits on would relieve us: if they\n",
            "would yield us but the superfluity, while it were\n",
            "wholesome, we might guess they relieved us humanely;\n",
            "but they think we are too dear: the leanness that\n",
            "afflicts us, the object of our misery, is as an\n",
            "inventory to particularise their abundance; our\n",
            "sufferance is a gain to them Let us revenge this with\n",
            "our pikes, ere we become rakes: for the gods know I\n",
            "speak this in hunger for bread, not in thirst for revenge.\n",
            "\n",
            "\n"
          ]
        }
      ],
      "source": [
        "# looking at the first 1000 characters -\n",
        "print(text[:1000])"
      ]
    },
    {
      "cell_type": "code",
      "execution_count": 5,
      "metadata": {
        "colab": {
          "base_uri": "https://localhost:8080/"
        },
        "id": "7BIJOMfQv9bg",
        "outputId": "fecdbc4c-e1c5-408c-ef64-c6887efc6c85"
      },
      "outputs": [
        {
          "name": "stdout",
          "output_type": "stream",
          "text": [
            "\n",
            " !$&',-.3:;?ABCDEFGHIJKLMNOPQRSTUVWXYZabcdefghijklmnopqrstuvwxyz\n",
            "65\n"
          ]
        }
      ],
      "source": [
        "# what are the unique characters in this text?\n",
        "chars = sorted(list(set(text)))\n",
        "vocab_size = len(chars)\n",
        "print(''.join(chars))\n",
        "print(vocab_size)"
      ]
    },
    {
      "cell_type": "markdown",
      "metadata": {
        "id": "NCYnsjj9wdjZ"
      },
      "source": [
        "we want to now \"tokenize\" - turn the characters into **sequence of integers**"
      ]
    },
    {
      "cell_type": "code",
      "execution_count": 6,
      "metadata": {
        "colab": {
          "base_uri": "https://localhost:8080/"
        },
        "id": "4EwDcfd3neR0",
        "outputId": "09af6a1d-cb9f-406f-9eae-104f1f71f13b"
      },
      "outputs": [
        {
          "name": "stdout",
          "output_type": "stream",
          "text": [
            "[46, 47, 47, 1, 58, 46, 43, 56, 43]\n",
            "hii there\n"
          ]
        }
      ],
      "source": [
        "# create map from characters to integers\n",
        "  # turns out ch:i is labelling the key value pairs\n",
        "\n",
        "stoi = { ch:i for i,ch in enumerate(chars) }\n",
        "itos = { i:ch for i,ch in enumerate(chars) }\n",
        "\n",
        "# encoder: function which takes a string, and for each character will look up in stoi. as an array of integers\n",
        "encode = lambda s: [stoi[c] for c in s]\n",
        "# decoder: function which for each integer in a list, look it up in itos, then join together as a string\n",
        "decode = lambda l: ''.join(itos[i] for i in l)\n",
        "\n",
        "print(encode(\"hii there\"))\n",
        "print(decode(encode(\"hii there\")))\n",
        "\n",
        "# but there are MANY ways -- eg. SentencePiece ->\n",
        "# tiktoken -> this will encode words into pairs and this is what open ai uses. COOL!\n",
        "# https://github.com/openai/tiktoken --"
      ]
    },
    {
      "cell_type": "markdown",
      "metadata": {
        "id": "uVN0lqU7ppOm"
      },
      "source": [
        "now let's try tokenizing all of tiny shakespeare!"
      ]
    },
    {
      "cell_type": "code",
      "execution_count": 7,
      "metadata": {
        "colab": {
          "base_uri": "https://localhost:8080/"
        },
        "collapsed": true,
        "id": "36FcfqoSn9JF",
        "outputId": "26e9acbf-5afd-4e46-b5af-e355996e5454"
      },
      "outputs": [
        {
          "name": "stdout",
          "output_type": "stream",
          "text": [
            "torch.Size([1115394]) torch.int64\n",
            "tensor([18, 47, 56, 57, 58,  1, 15, 47, 58, 47, 64, 43, 52, 10,  0, 14, 43, 44,\n",
            "        53, 56, 43,  1, 61, 43,  1, 54, 56, 53, 41, 43, 43, 42,  1, 39, 52, 63,\n",
            "         1, 44, 59, 56, 58, 46, 43, 56,  6,  1, 46, 43, 39, 56,  1, 51, 43,  1,\n",
            "        57, 54, 43, 39, 49,  8,  0,  0, 13, 50, 50, 10,  0, 31, 54, 43, 39, 49,\n",
            "         6,  1, 57, 54, 43, 39, 49,  8,  0,  0, 18, 47, 56, 57, 58,  1, 15, 47,\n",
            "        58, 47, 64, 43, 52, 10,  0, 37, 53, 59,  1, 39, 56, 43,  1, 39, 50, 50,\n",
            "         1, 56, 43, 57, 53, 50, 60, 43, 42,  1, 56, 39, 58, 46, 43, 56,  1, 58,\n",
            "        53,  1, 42, 47, 43,  1, 58, 46, 39, 52,  1, 58, 53,  1, 44, 39, 51, 47,\n",
            "        57, 46, 12,  0,  0, 13, 50, 50, 10,  0, 30, 43, 57, 53, 50, 60, 43, 42,\n",
            "         8,  1, 56, 43, 57, 53, 50, 60, 43, 42,  8,  0,  0, 18, 47, 56, 57, 58,\n",
            "         1, 15, 47, 58, 47, 64, 43, 52, 10,  0, 18, 47, 56, 57, 58,  6,  1, 63,\n",
            "        53, 59,  1, 49, 52, 53, 61,  1, 15, 39, 47, 59, 57,  1, 25, 39, 56, 41,\n",
            "        47, 59, 57,  1, 47, 57,  1, 41, 46, 47, 43, 44,  1, 43, 52, 43, 51, 63,\n",
            "         1, 58, 53,  1, 58, 46, 43,  1, 54, 43, 53, 54, 50, 43,  8,  0,  0, 13,\n",
            "        50, 50, 10,  0, 35, 43,  1, 49, 52, 53, 61,  5, 58,  6,  1, 61, 43,  1,\n",
            "        49, 52, 53, 61,  5, 58,  8,  0,  0, 18, 47, 56, 57, 58,  1, 15, 47, 58,\n",
            "        47, 64, 43, 52, 10,  0, 24, 43, 58,  1, 59, 57,  1, 49, 47, 50, 50,  1,\n",
            "        46, 47, 51,  6,  1, 39, 52, 42,  1, 61, 43,  5, 50, 50,  1, 46, 39, 60,\n",
            "        43,  1, 41, 53, 56, 52,  1, 39, 58,  1, 53, 59, 56,  1, 53, 61, 52,  1,\n",
            "        54, 56, 47, 41, 43,  8,  0, 21, 57,  5, 58,  1, 39,  1, 60, 43, 56, 42,\n",
            "        47, 41, 58, 12,  0,  0, 13, 50, 50, 10,  0, 26, 53,  1, 51, 53, 56, 43,\n",
            "         1, 58, 39, 50, 49, 47, 52, 45,  1, 53, 52,  5, 58, 11,  1, 50, 43, 58,\n",
            "         1, 47, 58,  1, 40, 43,  1, 42, 53, 52, 43, 10,  1, 39, 61, 39, 63,  6,\n",
            "         1, 39, 61, 39, 63,  2,  0,  0, 31, 43, 41, 53, 52, 42,  1, 15, 47, 58,\n",
            "        47, 64, 43, 52, 10,  0, 27, 52, 43,  1, 61, 53, 56, 42,  6,  1, 45, 53,\n",
            "        53, 42,  1, 41, 47, 58, 47, 64, 43, 52, 57,  8,  0,  0, 18, 47, 56, 57,\n",
            "        58,  1, 15, 47, 58, 47, 64, 43, 52, 10,  0, 35, 43,  1, 39, 56, 43,  1,\n",
            "        39, 41, 41, 53, 59, 52, 58, 43, 42,  1, 54, 53, 53, 56,  1, 41, 47, 58,\n",
            "        47, 64, 43, 52, 57,  6,  1, 58, 46, 43,  1, 54, 39, 58, 56, 47, 41, 47,\n",
            "        39, 52, 57,  1, 45, 53, 53, 42,  8,  0, 35, 46, 39, 58,  1, 39, 59, 58,\n",
            "        46, 53, 56, 47, 58, 63,  1, 57, 59, 56, 44, 43, 47, 58, 57,  1, 53, 52,\n",
            "         1, 61, 53, 59, 50, 42,  1, 56, 43, 50, 47, 43, 60, 43,  1, 59, 57, 10,\n",
            "         1, 47, 44,  1, 58, 46, 43, 63,  0, 61, 53, 59, 50, 42,  1, 63, 47, 43,\n",
            "        50, 42,  1, 59, 57,  1, 40, 59, 58,  1, 58, 46, 43,  1, 57, 59, 54, 43,\n",
            "        56, 44, 50, 59, 47, 58, 63,  6,  1, 61, 46, 47, 50, 43,  1, 47, 58,  1,\n",
            "        61, 43, 56, 43,  0, 61, 46, 53, 50, 43, 57, 53, 51, 43,  6,  1, 61, 43,\n",
            "         1, 51, 47, 45, 46, 58,  1, 45, 59, 43, 57, 57,  1, 58, 46, 43, 63,  1,\n",
            "        56, 43, 50, 47, 43, 60, 43, 42,  1, 59, 57,  1, 46, 59, 51, 39, 52, 43,\n",
            "        50, 63, 11,  0, 40, 59, 58,  1, 58, 46, 43, 63,  1, 58, 46, 47, 52, 49,\n",
            "         1, 61, 43,  1, 39, 56, 43,  1, 58, 53, 53,  1, 42, 43, 39, 56, 10,  1,\n",
            "        58, 46, 43,  1, 50, 43, 39, 52, 52, 43, 57, 57,  1, 58, 46, 39, 58,  0,\n",
            "        39, 44, 44, 50, 47, 41, 58, 57,  1, 59, 57,  6,  1, 58, 46, 43,  1, 53,\n",
            "        40, 48, 43, 41, 58,  1, 53, 44,  1, 53, 59, 56,  1, 51, 47, 57, 43, 56,\n",
            "        63,  6,  1, 47, 57,  1, 39, 57,  1, 39, 52,  0, 47, 52, 60, 43, 52, 58,\n",
            "        53, 56, 63,  1, 58, 53,  1, 54, 39, 56, 58, 47, 41, 59, 50, 39, 56, 47,\n",
            "        57, 43,  1, 58, 46, 43, 47, 56,  1, 39, 40, 59, 52, 42, 39, 52, 41, 43,\n",
            "        11,  1, 53, 59, 56,  0, 57, 59, 44, 44, 43, 56, 39, 52, 41, 43,  1, 47,\n",
            "        57,  1, 39,  1, 45, 39, 47, 52,  1, 58, 53,  1, 58, 46, 43, 51,  1, 24,\n",
            "        43, 58,  1, 59, 57,  1, 56, 43, 60, 43, 52, 45, 43,  1, 58, 46, 47, 57,\n",
            "         1, 61, 47, 58, 46,  0, 53, 59, 56,  1, 54, 47, 49, 43, 57,  6,  1, 43,\n",
            "        56, 43,  1, 61, 43,  1, 40, 43, 41, 53, 51, 43,  1, 56, 39, 49, 43, 57,\n",
            "        10,  1, 44, 53, 56,  1, 58, 46, 43,  1, 45, 53, 42, 57,  1, 49, 52, 53,\n",
            "        61,  1, 21,  0, 57, 54, 43, 39, 49,  1, 58, 46, 47, 57,  1, 47, 52,  1,\n",
            "        46, 59, 52, 45, 43, 56,  1, 44, 53, 56,  1, 40, 56, 43, 39, 42,  6,  1,\n",
            "        52, 53, 58,  1, 47, 52,  1, 58, 46, 47, 56, 57, 58,  1, 44, 53, 56,  1,\n",
            "        56, 43, 60, 43, 52, 45, 43,  8,  0,  0])\n"
          ]
        }
      ],
      "source": [
        "# why are we using pytorch tensors?\n",
        "\n",
        "import torch\n",
        "data = torch.tensor(encode(text), dtype=torch.long) # tensor is most efficient numerical computation\n",
        "print(data.shape, data.dtype) # this is how long, what type\n",
        "print(data[:1000]) # first 1000 characters"
      ]
    },
    {
      "cell_type": "markdown",
      "metadata": {
        "id": "C6ME8IwH8fOy"
      },
      "source": [
        "in general practice, when we want to do machine learning...\n",
        "# NEVER test on training data\n",
        "\n",
        "hence one of the lessons learned in ML class is to split training and evaluation data"
      ]
    },
    {
      "cell_type": "code",
      "execution_count": 8,
      "metadata": {
        "id": "cgY-7GW8n9EL"
      },
      "outputs": [],
      "source": [
        "# thus let's split it now.... his code says to split exactly into 90/10\n",
        "# would it make sense to randomly sample 90% and 10%? I guess in this case no because of LLMs?\n",
        "\n",
        "n = int(0.9*len(data))\n",
        "train_data = data[:n]\n",
        "val_data = data[n:]\n",
        "\n",
        "# this is what poe explains:\n",
        "# In many machine learning tasks, random sampling is used to ensure a representative distribution of data in training and validation sets. This helps mitigate biases and ensures that the model is exposed to a variety of examples.\n",
        "# In this case, not randomly sampling the data makes sense because of the sequential nature of text and the need to maintain contextual relationships for effective training of LLMs."
      ]
    },
    {
      "cell_type": "code",
      "execution_count": 9,
      "metadata": {
        "colab": {
          "base_uri": "https://localhost:8080/"
        },
        "id": "RM6f5Exhn9Gg",
        "outputId": "62f07044-d7bb-49fb-c918-1994ac98ae8e"
      },
      "outputs": [
        {
          "data": {
            "text/plain": [
              "tensor([18, 47, 56, 57, 58,  1, 15, 47, 58])"
            ]
          },
          "execution_count": 9,
          "metadata": {},
          "output_type": "execute_result"
        }
      ],
      "source": [
        "# we would generally train in *blocks*\n",
        "# he calls them of lengths block_size:\n",
        "\n",
        "block_size = 8\n",
        "train_data[:block_size+1]\n",
        "\n",
        "# this actually has multiple examples (to a transformer) - since transformer predicts at EACH spot\n",
        "# for 9 pieces of data, there's 8 examples\n",
        "\n",
        "# output is: tensor([18, 47, 56, 57, 58,  1, 15, 47, 58])\n",
        "# eg 1) 47 after 18\n",
        "# eg 2) 56 after 47, 18,\n",
        "# eg 3) 57, 56 .....\n",
        "# this is *backprop function* in practice! (need to watch the formula, again)"
      ]
    },
    {
      "cell_type": "code",
      "execution_count": 10,
      "metadata": {
        "colab": {
          "base_uri": "https://localhost:8080/"
        },
        "id": "iSPQHxgs-zai",
        "outputId": "56f51273-e59b-4ae3-d66a-4f5c93d9bb8d"
      },
      "outputs": [
        {
          "name": "stdout",
          "output_type": "stream",
          "text": [
            "when input is tensor([18]) the target is: 47\n",
            "when input is tensor([18, 47]) the target is: 56\n",
            "when input is tensor([18, 47, 56]) the target is: 57\n",
            "when input is tensor([18, 47, 56, 57]) the target is: 58\n",
            "when input is tensor([18, 47, 56, 57, 58]) the target is: 1\n",
            "when input is tensor([18, 47, 56, 57, 58,  1]) the target is: 15\n",
            "when input is tensor([18, 47, 56, 57, 58,  1, 15]) the target is: 47\n",
            "when input is tensor([18, 47, 56, 57, 58,  1, 15, 47]) the target is: 58\n"
          ]
        }
      ],
      "source": [
        "# just for illustration's sake --\n",
        "\n",
        "x = train_data[:block_size] # inputs into the transformer\n",
        "y = train_data[1:block_size+1] # outputs (next block, offset by one because we're looking\n",
        "    # for the relationship btwn each character\n",
        "for t in range(block_size):\n",
        "  context = x[:t+1]\n",
        "  target = y[t]\n",
        "  print(f\"when input is {context} the target is: {target}\")"
      ]
    },
    {
      "cell_type": "markdown",
      "metadata": {
        "id": "61fAzVnetNHn"
      },
      "source": [
        "the reason we do this, is so that transformer is used to seeing data of all\n",
        "sizes between 1 to 8. after 8, we start \"**TRUNCATING**\", meaning we split it up"
      ]
    },
    {
      "cell_type": "code",
      "execution_count": 12,
      "metadata": {
        "colab": {
          "base_uri": "https://localhost:8080/"
        },
        "id": "x1YL8QFVvewy",
        "outputId": "f52c7bff-5c81-4361-b81e-ca808cb97083"
      },
      "outputs": [
        {
          "name": "stdout",
          "output_type": "stream",
          "text": [
            "these are our inputs: tensor([[24, 43, 58,  5, 57,  1, 46, 43],\n",
            "        [44, 53, 56,  1, 58, 46, 39, 58],\n",
            "        [52, 58,  1, 58, 46, 39, 58,  1],\n",
            "        [25, 17, 27, 10,  0, 21,  1, 54]])\n",
            "these are out outputs: tensor([[43, 58,  5, 57,  1, 46, 43, 39],\n",
            "        [53, 56,  1, 58, 46, 39, 58,  1],\n",
            "        [58,  1, 58, 46, 39, 58,  1, 46],\n",
            "        [17, 27, 10,  0, 21,  1, 54, 39]])\n",
            "---\n",
            "when input is [24] the target is: 43\n",
            "when input is [24, 43] the target is: 58\n",
            "when input is [24, 43, 58] the target is: 5\n",
            "when input is [24, 43, 58, 5] the target is: 57\n",
            "when input is [24, 43, 58, 5, 57] the target is: 1\n",
            "when input is [24, 43, 58, 5, 57, 1] the target is: 46\n",
            "when input is [24, 43, 58, 5, 57, 1, 46] the target is: 43\n",
            "when input is [24, 43, 58, 5, 57, 1, 46, 43] the target is: 39\n",
            "when input is [44] the target is: 53\n",
            "when input is [44, 53] the target is: 56\n",
            "when input is [44, 53, 56] the target is: 1\n",
            "when input is [44, 53, 56, 1] the target is: 58\n",
            "when input is [44, 53, 56, 1, 58] the target is: 46\n",
            "when input is [44, 53, 56, 1, 58, 46] the target is: 39\n",
            "when input is [44, 53, 56, 1, 58, 46, 39] the target is: 58\n",
            "when input is [44, 53, 56, 1, 58, 46, 39, 58] the target is: 1\n",
            "when input is [52] the target is: 58\n",
            "when input is [52, 58] the target is: 1\n",
            "when input is [52, 58, 1] the target is: 58\n",
            "when input is [52, 58, 1, 58] the target is: 46\n",
            "when input is [52, 58, 1, 58, 46] the target is: 39\n",
            "when input is [52, 58, 1, 58, 46, 39] the target is: 58\n",
            "when input is [52, 58, 1, 58, 46, 39, 58] the target is: 1\n",
            "when input is [52, 58, 1, 58, 46, 39, 58, 1] the target is: 46\n",
            "when input is [25] the target is: 17\n",
            "when input is [25, 17] the target is: 27\n",
            "when input is [25, 17, 27] the target is: 10\n",
            "when input is [25, 17, 27, 10] the target is: 0\n",
            "when input is [25, 17, 27, 10, 0] the target is: 21\n",
            "when input is [25, 17, 27, 10, 0, 21] the target is: 1\n",
            "when input is [25, 17, 27, 10, 0, 21, 1] the target is: 54\n",
            "when input is [25, 17, 27, 10, 0, 21, 1, 54] the target is: 39\n"
          ]
        }
      ],
      "source": [
        "torch.manual_seed(1337) # setting random generator ONLY so that we see the same numbers\n",
        "batch_size = 4 # we can run these in PARALLEL\n",
        "block_size = 8 # max context length\n",
        "\n",
        "def get_batch(split):\n",
        "  # we're creating batches - training data flag we give training data\n",
        "  data = train_data if split == 'train' else val_data\n",
        "\n",
        "  # randomly get batch_size numbers, make sure we return \"block_size\" amts\n",
        "  ix = torch.randint(len(data) - block_size, (batch_size,))\n",
        "  x = torch.stack([data[i:i+block_size] for i in ix])\n",
        "  y = torch.stack([data[i+1:i+block_size+1] for i in ix])\n",
        "  return x, y\n",
        "\n",
        "xb, yb = get_batch('train')\n",
        "\n",
        "print(f\"these are our inputs: {xb}\")\n",
        "print(f\"these are out outputs: {yb}\")\n",
        "\n",
        "print('---')\n",
        "# basically for each character, the next char depends on the previous array\n",
        "for b in range(batch_size):\n",
        "  for t in range(block_size):\n",
        "    context = xb[b, :t+1]\n",
        "    target = yb[b, t]\n",
        "    print(f\"when input is {context.tolist()} the target is: {target}\")"
      ]
    },
    {
      "cell_type": "markdown",
      "metadata": {
        "id": "a6RR1m9QyoWy"
      },
      "source": [
        "# let's train!"
      ]
    },
    {
      "cell_type": "code",
      "execution_count": 16,
      "metadata": {
        "colab": {
          "base_uri": "https://localhost:8080/"
        },
        "id": "A_u85phJypnH",
        "outputId": "d553f7b4-443a-41ae-fddb-87c4d2c4b3c0"
      },
      "outputs": [
        {
          "name": "stdout",
          "output_type": "stream",
          "text": [
            "torch.Size([32, 65])\n",
            "tensor(4.8786, grad_fn=<NllLossBackward0>)\n"
          ]
        }
      ],
      "source": [
        "# firstly with: bigram language model - statistically based on previous word\n",
        "# subclass of nn model (handles neural networks)\n",
        "\n",
        "import torch\n",
        "import torch.nn as nn # neural networks ahhh\n",
        "from torch.nn import functional as F\n",
        "torch.manual_seed(1337) # again just for reproducability\n",
        "\n",
        "class BigramLanguageModel(nn.Module):\n",
        "\n",
        "  def __init__(self, vocab_size):\n",
        "    super().__init__() # just inheriting from neural networks\n",
        "    # each token directly reads off logits (nums for fn) for next token\n",
        "    # based on a lookup table\n",
        "\n",
        "    # what is nn.Embedding\n",
        "    # QUOTE:\n",
        "      # nn.Embedding is – like a linear layer – a M x N matrix,\n",
        "      # with M being the number of words and N being the size of each word vector.\n",
        "    # it's a wrapper of a tensor of shape vbsize x vbsize\n",
        "\n",
        "    self.token_embedding_table = nn.Embedding(vocab_size, vocab_size)\n",
        "\n",
        "\n",
        "  # this is the FORWARD PASS: The forward pass is the process of passing\n",
        "    # input data through the layers of a neural network to obtain an output.\n",
        "  def forward(self, idx, targets):\n",
        "    #### 1. idx and targets are both (B, T) tensor of integers\n",
        "\n",
        "    # each int will refer to that table to get the logits\n",
        "    # plucks out a row based on the index in that table\n",
        "\n",
        "    # eg. 43 num -> will get 43rd row,\n",
        "    logits = self.token_embedding_table(idx)\n",
        "\n",
        "    # (B, T, C) - batch, time, channel tensor\n",
        "    # in our example: batch = 4, time = eight, channel = vocab size (65)\n",
        "    # arrange rows in B x T x C\n",
        "\n",
        "\n",
        "    # logits are the scores for the NEXT value\n",
        "\n",
        "\n",
        "    #### 2. now we need to add a loss function (that we want to minimize to train)\n",
        "    # it's also log loss; btwn 0 and 1, we want to minimize to become more accurate\n",
        "    # measures the quality\n",
        "        # loss2 = F.cross_entropy(logits, targets)\n",
        "    # BUT THIS IS NOT CORRECT FN, we need to reshape first to B, T, C due to the fn\n",
        "    B, T, C = logits.shape\n",
        "    logits = logits.view(B*T, C) # batch x time (4 * 8)\n",
        "    targets = targets.view(B*T)\n",
        "    loss = F.cross_entropy(logits, targets)\n",
        "\n",
        "    return logits, loss\n",
        "\n",
        "\n",
        "m = BigramLanguageModel(vocab_size)\n",
        "logits, loss = m(xb, yb)\n",
        "print(logits.shape) # torch.Size([32, 65])\n",
        "print(loss) # tensor(4.8786, grad_fn=<NllLossBackward0>)\n",
        "\n",
        "# this is what we expect: -ln(1/65) = 4.17...\n",
        "# because our loss is bigger, there is \"entropy\" and not great (?)\n",
        "\n",
        "\n",
        "# but OVERALL, we can now evaluate the quality~"
      ]
    }
  ],
  "metadata": {
    "colab": {
      "provenance": []
    },
    "kernelspec": {
      "display_name": "Python 3",
      "name": "python3"
    },
    "language_info": {
      "name": "python"
    }
  },
  "nbformat": 4,
  "nbformat_minor": 0
}
